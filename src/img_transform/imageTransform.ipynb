{
 "cells": [
  {
   "cell_type": "code",
   "execution_count": 1,
   "metadata": {
    "collapsed": true
   },
   "outputs": [],
   "source": [
    "import cv2\n",
    "import numpy as np\n",
    "import matplotlib.pyplot as plt"
   ]
  },
  {
   "cell_type": "code",
   "execution_count": 2,
   "outputs": [
    {
     "name": "stdout",
     "output_type": "stream",
     "text": [
      "(444, 639, 3)\n"
     ]
    }
   ],
   "source": [
    "img=cv2.imread(r'E:\\pythonProject\\opencvProject\\resources\\bandw.jpg')\n",
    "print(img.shape)"
   ],
   "metadata": {
    "collapsed": false,
    "pycharm": {
     "name": "#%% 加载数据\n"
    }
   }
  },
  {
   "cell_type": "markdown",
   "source": [
    "#### 1.透视变换\n"
   ],
   "metadata": {
    "collapsed": false,
    "pycharm": {
     "name": "#%% md\n"
    }
   }
  },
  {
   "cell_type": "code",
   "execution_count": 3,
   "outputs": [],
   "source": [
    "pts1=np.float32([[390,102],[631,117],[360,397],[589,439]])\n",
    "pts2=np.float32([[0,0],[340,0],[0,300],[340,300]])\n",
    "\n",
    "M= cv2.getPerspectiveTransform(pts1,pts2)\n",
    "\n",
    "dist=cv2.warpPerspective(img,M,(340,300))\n"
   ],
   "metadata": {
    "collapsed": false,
    "pycharm": {
     "name": "#%%\n"
    }
   }
  },
  {
   "cell_type": "markdown",
   "source": [
    "####  2.颜色转换"
   ],
   "metadata": {
    "collapsed": false,
    "pycharm": {
     "name": "#%% md\n"
    }
   }
  },
  {
   "cell_type": "code",
   "execution_count": 4,
   "outputs": [],
   "source": [
    "img2=cv2.imread(r'E:\\pythonProject\\opencvProject\\resources\\3(80_80).jpg')\n",
    "hsv=cv2.cvtColor(img2,cv2.COLOR_BGR2HSV)\n",
    "blue_min = np.array([100, 43, 46])\n",
    "blue_max = np.array([124, 255, 255])\n",
    "mask=cv2.inRange(hsv,blue_min,blue_max)\n",
    "blue_part=cv2.bitwise_and(img2,img2,mask=mask)\n",
    "kernel =np.ones((3,3),np.uint8)\n",
    "blue_part=cv2.morphologyEx(blue_part,cv2.MORPH_OPEN,kernel,iterations=1)"
   ],
   "metadata": {
    "collapsed": false,
    "pycharm": {
     "name": "#%%\n"
    }
   }
  },
  {
   "cell_type": "code",
   "execution_count": 5,
   "outputs": [],
   "source": [
    "cv2.namedWindow('image',0)\n",
    "cv2.imshow('image',blue_part)\n",
    "cv2.waitKey(0)\n",
    "cv2.destroyAllWindows()"
   ],
   "metadata": {
    "collapsed": false,
    "pycharm": {
     "name": "#%%\n"
    }
   }
  }
 ],
 "metadata": {
  "kernelspec": {
   "name": "pycharm-368948a5",
   "language": "python",
   "display_name": "PyCharm (opencv)"
  },
  "language_info": {
   "codemirror_mode": {
    "name": "ipython",
    "version": 2
   },
   "file_extension": ".py",
   "mimetype": "text/x-python",
   "name": "python",
   "nbconvert_exporter": "python",
   "pygments_lexer": "ipython2",
   "version": "2.7.6"
  }
 },
 "nbformat": 4,
 "nbformat_minor": 0
}