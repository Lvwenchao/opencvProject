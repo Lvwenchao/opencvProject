{
 "cells": [
  {
   "cell_type": "markdown",
   "metadata": {
    "collapsed": true,
    "pycharm": {
     "name": "#%% md\n"
    }
   },
   "source": [
    "### 一、图像轮廓\n",
    "#### 1.findContours()\n",
    "#### 2.drawContours()"
   ]
  },
  {
   "cell_type": "code",
   "execution_count": 2,
   "outputs": [],
   "source": [
    "import cv2\n",
    "import numpy as np\n",
    "import matplotlib.pyplot  as plt"
   ],
   "metadata": {
    "collapsed": false,
    "pycharm": {
     "name": "#%%\n"
    }
   }
  },
  {
   "cell_type": "markdown",
   "source": [
    "#### 查找轮廓\n",
    "\n"
   ],
   "metadata": {
    "collapsed": false,
    "pycharm": {
     "name": "#%% md\n"
    }
   }
  },
  {
   "cell_type": "code",
   "execution_count": 3,
   "outputs": [
    {
     "name": "stdout",
     "output_type": "stream",
     "text": [
      "251\n"
     ]
    }
   ],
   "source": [
    "img=cv2.imread(r'E:\\pythonProject\\opencvProject\\resources\\bandw.jpg')\n",
    "img_gray=cv2.cvtColor(img,cv2.COLOR_BGR2GRAY)\n",
    "ret,threld=cv2.threshold(img_gray,175,255,0)\n",
    "contours,hierarchy=cv2.findContours(threld,cv2.RETR_TREE,cv2.CHAIN_APPROX_SIMPLE)\n",
    "print(len(contours))\n",
    "\n",
    "background=np.zeros((img.shape[0],img.shape[1]),np.uint8)\n",
    "background=cv2.drawContours(background,contours,198,(212,28,121),1)\n",
    "\n",
    "cv2.namedWindow('contours',0)\n",
    "cv2.resizeWindow('contours',500,500)\n",
    "cv2.imshow('contours',background)\n",
    "cv2.waitKey(0)\n",
    "cv2.destroyAllWindows()"
   ],
   "metadata": {
    "collapsed": false,
    "pycharm": {
     "name": "#%%\n"
    }
   }
  },
  {
   "cell_type": "markdown",
   "source": [
    "### 二、轮廓特征\n",
    "#### 1.cv2.moments()  ------ 获取矩的字典"
   ],
   "metadata": {
    "collapsed": false,
    "pycharm": {
     "name": "#%% md\n"
    }
   }
  },
  {
   "cell_type": "code",
   "execution_count": 4,
   "outputs": [
    {
     "name": "stdout",
     "output_type": "stream",
     "text": [
      "327 232\n",
      "32030667.0\n"
     ]
    }
   ],
   "source": [
    "M=cv2.moments(img[:,:,0])\n",
    "\n",
    "# 计算中心\n",
    "\n",
    "center_x=int(M['m10']/M['m00'])\n",
    "center_y=int(M['m01']/M['m00'])\n",
    "print(center_x,center_y)\n",
    "\n",
    "# 计算面积\n",
    "print(M['m00'])\n"
   ],
   "metadata": {
    "collapsed": false,
    "pycharm": {
     "name": "#%%\n"
    }
   }
  },
  {
   "cell_type": "markdown",
   "source": [
    "#### 2.cv2.arcLength() 计算轮廓周长\n"
   ],
   "metadata": {
    "collapsed": false,
    "pycharm": {
     "name": "#%% md\n"
    }
   }
  },
  {
   "cell_type": "code",
   "execution_count": 5,
   "outputs": [
    {
     "name": "stdout",
     "output_type": "stream",
     "text": [
      "208\n",
      "376.73506212234497\n"
     ]
    }
   ],
   "source": [
    "print(len(contours[198]))\n",
    "permeters=cv2.arcLength(contours[198],True)\n",
    "print(permeters)"
   ],
   "metadata": {
    "collapsed": false,
    "pycharm": {
     "name": "#%%\n"
    }
   }
  },
  {
   "cell_type": "markdown",
   "source": [
    "#### 3.cv2.convexHull() 查找凸性缺陷"
   ],
   "metadata": {
    "collapsed": false,
    "pycharm": {
     "name": "#%% md\n"
    }
   }
  },
  {
   "cell_type": "code",
   "execution_count": 7,
   "outputs": [],
   "source": [
    "cn=contours[198]\n",
    "hull=cv2.convexHull(cn,returnPoints=True)"
   ],
   "metadata": {
    "collapsed": false,
    "pycharm": {
     "name": "#%%\n"
    }
   }
  },
  {
   "cell_type": "markdown",
   "source": [
    "#### 3.cv2.boundingRect() 建立直边界矩阵\n",
    "####   cv.cv2.minAreaRect()"
   ],
   "metadata": {
    "collapsed": false
   }
  },
  {
   "cell_type": "code",
   "execution_count": 8,
   "outputs": [
    {
     "name": "stdout",
     "output_type": "stream",
     "text": [
      "((63.97261428833008, 160.76028442382812), (136.11886596679688, 17.556171417236328), -20.556045532226562)\n",
      "[[  3.3287773 192.87672  ]\n",
      " [ -2.8356094 176.43837  ]\n",
      " [124.616455  128.64384  ]\n",
      " [130.78084   145.0822   ]]\n"
     ]
    },
    {
     "name": "stderr",
     "output_type": "stream",
     "text": [
      "<ipython-input-8-c32f7e476be0>:11: DeprecationWarning: an integer is required (got type numpy.float32).  Implicit conversion to integers using __int__ is deprecated, and may be removed in a future version of Python.\n",
      "  cv2.line(background,(boxs[i][0],boxs[i][1]),(boxs[i+1][0],boxs[i+1][1]),(255,212,21),1)\n",
      "<ipython-input-8-c32f7e476be0>:9: DeprecationWarning: an integer is required (got type numpy.float32).  Implicit conversion to integers using __int__ is deprecated, and may be removed in a future version of Python.\n",
      "  cv2.line(background,(boxs[i][0],boxs[i][1]),(boxs[0][0],boxs[0][1]),(255,212,21),1)\n"
     ]
    }
   ],
   "source": [
    "x,y,w,h=cv2.boundingRect(cn)\n",
    "cv2.rectangle(background,(x,y),(x+w,y+h),(255,212,21),1)\n",
    "rect=cv2.minAreaRect(cn)\n",
    "print(rect)\n",
    "boxs=cv2.boxPoints(rect)\n",
    "print(boxs)\n",
    "for i in range(len(boxs)):\n",
    "    if i==(len(boxs)-1):\n",
    "        cv2.line(background,(boxs[i][0],boxs[i][1]),(boxs[0][0],boxs[0][1]),(255,212,21),1)\n",
    "    else:\n",
    "     cv2.line(background,(boxs[i][0],boxs[i][1]),(boxs[i+1][0],boxs[i+1][1]),(255,212,21),1)\n",
    "\n",
    "cv2.namedWindow('contours',0)\n",
    "cv2.resizeWindow('contours',500,500)\n",
    "cv2.imshow('contours',background)\n",
    "cv2.waitKey(0)\n",
    "cv2.destroyAllWindows()"
   ],
   "metadata": {
    "collapsed": false,
    "pycharm": {
     "name": "#%%\n"
    }
   }
  },
  {
   "cell_type": "markdown",
   "source": [
    "#### 4.cv2.minEnclosedCircle() 建立直边界矩阵"
   ],
   "metadata": {
    "collapsed": false,
    "pycharm": {
     "name": "#%% md\n"
    }
   }
  },
  {
   "cell_type": "code",
   "execution_count": 14,
   "outputs": [],
   "source": [
    "(x,y),radiu=cv2.minEnclosingCircle(cn)\n"
   ],
   "metadata": {
    "collapsed": false,
    "pycharm": {
     "name": "#%%\n"
    }
   }
  },
  {
   "cell_type": "markdown",
   "source": [
    "#### 5.cv2.fitEllipse(cnt) 获取外接椭圆"
   ],
   "metadata": {
    "collapsed": false
   }
  },
  {
   "cell_type": "code",
   "execution_count": 17,
   "outputs": [
    {
     "data": {
      "text/plain": "array([[0, 0, 0, ..., 0, 0, 0],\n       [0, 0, 0, ..., 0, 0, 0],\n       [0, 0, 0, ..., 0, 0, 0],\n       ...,\n       [0, 0, 0, ..., 0, 0, 0],\n       [0, 0, 0, ..., 0, 0, 0],\n       [0, 0, 0, ..., 0, 0, 0]], dtype=uint8)"
     },
     "execution_count": 17,
     "metadata": {},
     "output_type": "execute_result"
    }
   ],
   "source": [
    "ellipse=cv2.fitEllipse(cn)\n",
    "cv2.ellipse(background,ellipse,(255,255,1),3)"
   ],
   "metadata": {
    "collapsed": false,
    "pycharm": {
     "name": "#%%\n"
    }
   }
  },
  {
   "cell_type": "code",
   "execution_count": 18,
   "outputs": [],
   "source": [
    "cv2.namedWindow('contours',0)\n",
    "cv2.resizeWindow('contours',500,500)\n",
    "cv2.imshow('contours',background)\n",
    "cv2.waitKey(0)\n",
    "cv2.destroyAllWindows()\n"
   ],
   "metadata": {
    "collapsed": false,
    "pycharm": {
     "name": "#%%\n"
    }
   }
  },
  {
   "cell_type": "markdown",
   "source": [
    "### 三、轮廓的性质\n",
    "#### 1、长宽比\n",
    "####\n"
   ],
   "metadata": {
    "collapsed": false,
    "pycharm": {
     "name": "#%% md\n"
    }
   }
  },
  {
   "cell_type": "code",
   "execution_count": null,
   "outputs": [],
   "source": [],
   "metadata": {
    "collapsed": false,
    "pycharm": {
     "name": "#%%\n"
    }
   }
  }
 ],
 "metadata": {
  "kernelspec": {
   "name": "pycharm-368948a5",
   "language": "python",
   "display_name": "PyCharm (opencv)"
  },
  "language_info": {
   "codemirror_mode": {
    "name": "ipython",
    "version": 2
   },
   "file_extension": ".py",
   "mimetype": "text/x-python",
   "name": "python",
   "nbconvert_exporter": "python",
   "pygments_lexer": "ipython2",
   "version": "2.7.6"
  }
 },
 "nbformat": 4,
 "nbformat_minor": 0
}