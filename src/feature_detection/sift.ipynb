{
 "cells": [
  {
   "cell_type": "code",
   "execution_count": 7,
   "metadata": {
    "collapsed": true
   },
   "outputs": [],
   "source": [
    "import cv2\n",
    "import numpy as np\n",
    "import matplotlib.pyplot as plt"
   ]
  },
  {
   "cell_type": "markdown",
   "source": [
    "1. **图像金字塔**"
   ],
   "metadata": {
    "collapsed": false,
    "pycharm": {
     "name": "#%% md\n"
    }
   }
  },
  {
   "cell_type": "code",
   "execution_count": 8,
   "outputs": [
    {
     "name": "stdout",
     "output_type": "stream",
     "text": [
      "(1300, 1600, 3)\n",
      "(1300, 1600, 3)\n"
     ]
    }
   ],
   "source": [
    "img1=cv2.imread('../resources/DJI_0020.JPG')\n",
    "img2=cv2.imread('../resources/DJI_0040.jpg')\n",
    "print(img1.shape)\n",
    "print(img2.shape)\n",
    "gray1=cv2.cvtColor(img1,cv2.COLOR_BGR2GRAY)\n",
    "gray2=cv2.cvtColor(img2,cv2.COLOR_BGR2GRAY)\n",
    "hmerge=np.hstack((gray1,gray2))\n",
    "\n",
    "cv2.namedWindow('sift',cv2.WINDOW_NORMAL)\n",
    "cv2.imshow('sift',hmerge)\n",
    "cv2.waitKey(0)\n",
    "cv2.destroyAllWindows()"
   ],
   "metadata": {
    "collapsed": false,
    "pycharm": {
     "name": "#%%\n"
    }
   }
  },
  {
   "cell_type": "markdown",
   "source": [
    "2. **检测关键点**"
   ],
   "metadata": {
    "collapsed": false,
    "pycharm": {
     "name": "#%% md\n"
    }
   }
  },
  {
   "cell_type": "code",
   "execution_count": 15,
   "outputs": [],
   "source": [
    "# sift 检测\n",
    "\n",
    "sift=cv2.SIFT_create()\n",
    "sift_kp1,sift_des1=sift.detectAndCompute(gray1,None)\n",
    "sift_kp2,sift_des2=sift.detectAndCompute(gray2,None)\n",
    "\n",
    "\n",
    "sift_img1=img1.copy()\n",
    "sift_img2=img2.copy()\n",
    "cv2.drawKeypoints(img1,sift_kp1,sift_img1,(255,0,0),flags=cv2.DRAW_MATCHES_FLAGS_DEFAULT)\n",
    "cv2.drawKeypoints(img2,sift_kp2,sift_img2,(0,255,0),flags=cv2.DRAW_MATCHES_FLAGS_DEFAULT)\n",
    "\n",
    "cv2.imwrite('../resources/result/DJI_0020_sift_keypoints.png',sift_img1)\n",
    "cv2.imwrite('../resources/result/DJI_0040_sift_keypoints.png',sift_img2)\n",
    "\n",
    "kp_hmerge=np.hstack((sift_img1,sift_img2))\n",
    "\n",
    "cv2.namedWindow('sift',cv2.WINDOW_NORMAL)\n",
    "cv2.imshow('sift',kp_hmerge)\n",
    "cv2.waitKey(0)\n",
    "cv2.destroyAllWindows()\n",
    "\n",
    "\n",
    "cv2.namedWindow('sift',cv2.WINDOW_NORMAL)\n",
    "cv2.imshow('sift',kp_hmerge)\n",
    "cv2.waitKey(0)\n",
    "cv2.destroyAllWindows()"
   ],
   "metadata": {
    "collapsed": false,
    "pycharm": {
     "name": "#%%\n"
    }
   }
  }
 ],
 "metadata": {
  "kernelspec": {
   "name": "pycharm-368948a5",
   "language": "python",
   "display_name": "PyCharm (opencv)"
  },
  "language_info": {
   "codemirror_mode": {
    "name": "ipython",
    "version": 2
   },
   "file_extension": ".py",
   "mimetype": "text/x-python",
   "name": "python",
   "nbconvert_exporter": "python",
   "pygments_lexer": "ipython2",
   "version": "2.7.6"
  }
 },
 "nbformat": 4,
 "nbformat_minor": 0
}