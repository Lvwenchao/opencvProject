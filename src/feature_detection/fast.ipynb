{
 "cells": [
  {
   "cell_type": "code",
   "execution_count": 1,
   "outputs": [],
   "source": [
    "import cv2\n",
    "import numpy as np\n",
    "from tools import  file_tools\n",
    "import os\n",
    "import gdal\n",
    "import matplotlib.pyplot as plt"
   ],
   "metadata": {
    "collapsed": false,
    "pycharm": {
     "name": "#%%\n"
    }
   }
  },
  {
   "cell_type": "markdown",
   "source": [
    "\n",
    "1. **TIFF数据读取**"
   ],
   "metadata": {
    "collapsed": false,
    "pycharm": {
     "name": "#%% md\n"
    }
   }
  },
  {
   "cell_type": "code",
   "execution_count": 2,
   "outputs": [],
   "source": [
    "# 波段数\n",
    "\n",
    "path=\"../resources/rs\"\n",
    "filename=os.listdir(path)\n",
    "path_list=map(lambda x:os.path.join(path,x),filename)\n",
    "path_list=list(path_list)\n",
    "\n"
   ],
   "metadata": {
    "collapsed": false,
    "pycharm": {
     "name": "#%%\n"
    }
   }
  },
  {
   "cell_type": "code",
   "execution_count": 3,
   "outputs": [
    {
     "name": "stdout",
     "output_type": "stream",
     "text": [
      "(2, 1300, 1600, 5)\n"
     ]
    }
   ],
   "source": [
    "image_num=2\n",
    "path_list=np.reshape(path_list,(2,5))\n",
    "\n",
    "# 读取图像\n",
    "\n",
    "images=np.array([])\n",
    "for i in range(image_num):\n",
    "    bands_list=path_list[i]\n",
    "    image=file_tools.read_tiff_single(bands_list)\n",
    "    if i==0:\n",
    "        images=np.expand_dims(image,axis=0)\n",
    "    else:\n",
    "        images=np.append(images,np.expand_dims(image,axis=0),axis=0)\n",
    "\n",
    "print(images.shape)\n",
    "\n"
   ],
   "metadata": {
    "collapsed": false,
    "pycharm": {
     "name": "#%%\n"
    }
   }
  },
  {
   "cell_type": "code",
   "execution_count": 4,
   "outputs": [],
   "source": [
    "heigth = images.shape[1]\n",
    "width = images.shape[2]\n",
    "bands = images.shape[3]\n",
    "\n",
    "for i in range(images.shape[0]):\n",
    "    image=images[i]\n",
    "\n",
    "    image=image.transpose(2,0,1)\n",
    "\n",
    "    out_path='../resources/fusing/DJI_00{}0.TIF'.format(i)\n",
    "    file_tools.write_tiff(image,width,heigth,bands,out_path)\n"
   ],
   "metadata": {
    "collapsed": false,
    "pycharm": {
     "name": "#%%s\n"
    }
   }
  }
 ],
 "metadata": {
  "kernelspec": {
   "name": "pycharm-368948a5",
   "language": "python",
   "display_name": "PyCharm (opencv)"
  },
  "language_info": {
   "codemirror_mode": {
    "name": "ipython",
    "version": 2
   },
   "file_extension": ".py",
   "mimetype": "text/x-python",
   "name": "python",
   "nbconvert_exporter": "python",
   "pygments_lexer": "ipython2",
   "version": "2.7.6"
  }
 },
 "nbformat": 4,
 "nbformat_minor": 0
}