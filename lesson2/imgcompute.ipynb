{
 "cells": [
  {
   "cell_type": "code",
   "execution_count": 1,
   "metadata": {
    "collapsed": true
   },
   "outputs": [],
   "source": [
    "import cv2\n",
    "import numpy as np\n"
   ]
  },
  {
   "cell_type": "markdown",
   "source": [
    "#### 1.图像加法"
   ],
   "metadata": {
    "collapsed": false,
    "pycharm": {
     "name": "#%% md\n"
    }
   }
  },
  {
   "cell_type": "code",
   "execution_count": 4,
   "outputs": [
    {
     "name": "stdout",
     "output_type": "stream",
     "text": [
      "[[255]]\n",
      "[4]\n"
     ]
    }
   ],
   "source": [
    "x = np.uint8([250])\n",
    "y = np.uint8([10])\n",
    "print (cv2.add(x,y))\n",
    "print(x+y)"
   ],
   "metadata": {
    "collapsed": false,
    "pycharm": {
     "name": "#%%\n"
    }
   }
  },
  {
   "cell_type": "markdown",
   "source": [
    "#### 2.权重相加"
   ],
   "metadata": {
    "collapsed": false,
    "pycharm": {
     "name": "#%% md\n"
    }
   }
  },
  {
   "cell_type": "code",
   "execution_count": 2,
   "outputs": [
    {
     "name": "stdout",
     "output_type": "stream",
     "text": [
      "(80, 80, 3) (80, 80, 3)\n"
     ]
    }
   ],
   "source": [
    "img1 = cv2.imread(r'E:\\pythonProject\\opencvProject\\resources\\2(80_80).jpg',1)\n",
    "img2 = cv2.imread(r'E:\\pythonProject\\opencvProject\\resources\\3(80_80).jpg',1)\n",
    "print(img1.shape,img2.shape)"
   ],
   "metadata": {
    "collapsed": false,
    "pycharm": {
     "name": "#%%\n"
    }
   }
  },
  {
   "cell_type": "code",
   "execution_count": 3,
   "outputs": [],
   "source": [
    "dst = cv2.addWeighted(img1,0.7,img2,0.3,0)\n",
    "cv2.imshow('image',dst)\n",
    "cv2.waitKey(0)\n",
    "cv2.destroyAllWindows()"
   ],
   "metadata": {
    "collapsed": false,
    "pycharm": {
     "name": "#%%\n"
    }
   }
  },
  {
   "cell_type": "markdown",
   "source": [
    "#### 3.按位运算"
   ],
   "metadata": {
    "collapsed": false,
    "pycharm": {
     "name": "#%% md\n"
    }
   }
  },
  {
   "cell_type": "code",
   "execution_count": 6,
   "outputs": [],
   "source": [
    "img3=cv2.imread(r'E:\\pythonProject\\opencvProject\\resources\\head(200_200).jpg')\n",
    "row,col,dim=img2.shape\n",
    "roi=img3[:row,:col]\n",
    "\n",
    "# 创建logo掩码和反掩码\n",
    "img2gray=cv2.cvtColor(img2,cv2.COLOR_BGR2GRAY)\n",
    "ret, mask = cv2.threshold(img2gray, 175, 255, cv2.THRESH_BINARY)\n",
    "maskinv=cv2.bitwise_not(mask)\n",
    "# 将roi中划出一块log 像元值为0\n",
    "img1_bg = cv2.bitwise_and(roi,roi,mask = mask)\n",
    "img2_fg =cv2.bitwise_and(img2,img2,mask=maskinv)\n",
    "dst=cv2.add(img1_bg,img2_fg)\n",
    "img3[:row,:col]=dst\n",
    "cv2.imshow('image',img3)\n",
    "cv2.waitKey(0)\n",
    "cv2.destroyAllWindows()\n",
    "\n"
   ],
   "metadata": {
    "collapsed": false,
    "pycharm": {
     "name": "#%%\n"
    }
   }
  },
  {
   "cell_type": "markdown",
   "source": [
    "#### 4.图像变换\n"
   ],
   "metadata": {
    "collapsed": false,
    "pycharm": {
     "name": "#%% md\n"
    }
   }
  },
  {
   "cell_type": "code",
   "source": [
    "import time\n",
    "def change(image1,image2,windowName):\n",
    "    i=1\n",
    "    dst1 =cv2.addWeighted(image1,i/100,image2,1-(i/100),0)\n",
    "    while i<=100:\n",
    "        i+=1\n",
    "        dst1 =cv2.addWeighted(image1,i/100,image2,1-(i/100),0)\n",
    "        cv2.imshow(windowName,dst1)\n",
    "        if cv2.waitKey(20) & 0XFF == 27:\n",
    "            break\n",
    "\n",
    "    cv2.imshow(windowName,dst1)\n",
    "    cv2.waitKey(0)\n",
    "    cv2.destroyAllWindows()"
   ],
   "metadata": {
    "collapsed": false,
    "pycharm": {
     "name": "#%%\n"
    }
   },
   "execution_count": 3,
   "outputs": []
  },
  {
   "cell_type": "code",
   "execution_count": null,
   "outputs": [],
   "source": [
    "change(img1,img2,'image')"
   ],
   "metadata": {
    "collapsed": false,
    "pycharm": {
     "name": "#%%\n"
    }
   }
  },
  {
   "cell_type": "code",
   "execution_count": 4,
   "outputs": [],
   "source": [
    "dst1 =cv2.addWeighted(img1,1,img2,0,0)\n",
    "cv2.imshow('image',dst1)\n",
    "cv2.waitKey(0)\n",
    "cv2.destroyAllWindows()"
   ],
   "metadata": {
    "collapsed": false,
    "pycharm": {
     "name": "#%%\n"
    }
   }
  },
  {
   "cell_type": "code",
   "execution_count": 11,
   "outputs": [
    {
     "name": "stdout",
     "output_type": "stream",
     "text": [
      "(629, 436, 3) (629, 436, 3)\n"
     ]
    }
   ],
   "source": [
    "girl1 = cv2.imread(r'E:\\pythonProject\\opencvProject\\resources\\girlfriend1.jpg',1)\n",
    "girl2 = cv2.imread(r'E:\\pythonProject\\opencvProject\\resources\\girlfriend2.jpg',1)\n",
    "girl1=cv2.resize(girl1,(girl2.shape[1],girl2.shape[0]),interpolation=cv2.INTER_CUBIC)\n",
    "print(girl1.shape,girl2.shape)\n",
    "change(girl1,girl2,'image')"
   ],
   "metadata": {
    "collapsed": false,
    "pycharm": {
     "name": "#%% girlfriend\n"
    }
   }
  }
 ],
 "metadata": {
  "kernelspec": {
   "display_name": "Python 3",
   "language": "python",
   "name": "python3"
  },
  "language_info": {
   "codemirror_mode": {
    "name": "ipython",
    "version": 2
   },
   "file_extension": ".py",
   "mimetype": "text/x-python",
   "name": "python",
   "nbconvert_exporter": "python",
   "pygments_lexer": "ipython2",
   "version": "2.7.6"
  }
 },
 "nbformat": 4,
 "nbformat_minor": 0
}