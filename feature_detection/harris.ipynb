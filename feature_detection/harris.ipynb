{
 "cells": [
  {
   "cell_type": "code",
   "execution_count": 1,
   "outputs": [],
   "source": [
    "import cv2\n",
    "import numpy as np\n",
    "import matplotlib.pyplot as plt"
   ],
   "metadata": {
    "collapsed": false,
    "pycharm": {
     "name": "#%%\n"
    }
   }
  },
  {
   "cell_type": "code",
   "execution_count": 2,
   "metadata": {
    "collapsed": true
   },
   "outputs": [],
   "source": [
    "def harris(img, ksize=3, k=0.04):\n",
    "    \"\"\"\n",
    "\n",
    "    :param img: input_img\n",
    "    :param ksize: size of sobel kernal\n",
    "    :param k: k of R\n",
    "    \"\"\"\n",
    "    threhold = 0.005\n",
    "    h, w = img.shape[:2]\n",
    "    # 计算在x和y方向的梯度\n",
    "    grads = np.zeros((h, w, 2), dtype=np.float32)\n",
    "    grads[:, :, 0] = cv2.Sobel(img, cv2.CV_16S, 1, 0, ksize)\n",
    "    grads[:, :, 1] = cv2.Sobel(img, cv2.CV_16S, 0, 1, ksize)\n",
    "\n",
    "    # 计算Ix^2,IxIy,Iy^2\n",
    "    m = np.zeros((h, w, 3), dtype=np.float32)\n",
    "    m[:, :, 0] = grads[:, :, 0] ** 2\n",
    "    m[:, :, 1] = grads[:, :, 1] ** 2\n",
    "    m[:, :, 2] = grads[:, :, 0] * grads[:, :, 1]\n",
    "\n",
    "    # 计算每个图像的M 矩阵 ，M=w(x,y)grads\n",
    "    # 对梯度进行高斯滤波处理\n",
    "    m[:, :, 0] = cv2.GaussianBlur(m[:, :, 0], (3, 3), sigmaX=2)\n",
    "    m[:, :, 1] = cv2.GaussianBlur(m[:, :, 1], (3, 3), sigmaX=2)\n",
    "    m[:, :, 2] = cv2.GaussianBlur(m[:, :, 2], (3, 3), sigmaX=2)\n",
    "    M = [np.array([[m[i, j, 0], m[i, j, 2]], [m[i, j, 2], m[i, j, 1]]]) for i in range(h) for j in range(w)]\n",
    "    M = np.array(M)\n",
    "\n",
    "    # 计算特征值和R\n",
    "    D, T = list(map(np.linalg.det, M)), list(map(np.trace, M))\n",
    "    R = np.array([d - k * t ** 2 for d, t in zip(D, T)])\n",
    "    R = np.reshape(R, (h, w))\n",
    "    # 获取最大值\n",
    "    R_max = R.max()\n",
    "    corner = np.zeros_like(R, dtype=np.float32)\n",
    "    for i in range(h):\n",
    "        for j in range(w):\n",
    "            # 进行阈值检测\n",
    "            if R[i, j] > R_max * threhold:\n",
    "                corner[i, j] = 255\n",
    "\n",
    "    return corner"
   ]
  },
  {
   "cell_type": "code",
   "execution_count": 13,
   "outputs": [],
   "source": [
    "filename = r\"../resources/DJI_0020.JPG\"\n",
    "img1 = cv2.imread(filename)\n",
    "img2 = img1.copy()[:500,:500,:]\n",
    "gray = cv2.cvtColor(img2, cv2.COLOR_BGR2GRAY)\n",
    "gray = np.float32(gray)"
   ],
   "metadata": {
    "collapsed": false,
    "pycharm": {
     "name": "#%%\n"
    }
   }
  },
  {
   "cell_type": "code",
   "execution_count": 12,
   "outputs": [
    {
     "data": {
      "text/plain": "True"
     },
     "execution_count": 12,
     "metadata": {},
     "output_type": "execute_result"
    }
   ],
   "source": [
    "dst = cv2.cornerHarris(gray, 2, 3, 0.04)\n",
    "dst = cv2.dilate(dst, None)\n",
    "\n",
    "img2[dst > 0.01 * dst.max()] = [0, 0, 255]\n",
    "cv2.imwrite(\"../resources/result/harris_opencv.jpg\", img2)"
   ],
   "metadata": {
    "collapsed": false,
    "pycharm": {
     "name": "#%%\n"
    }
   }
  },
  {
   "cell_type": "code",
   "execution_count": 14,
   "outputs": [
    {
     "name": "stdout",
     "output_type": "stream",
     "text": [
      "(500, 500)\n"
     ]
    },
    {
     "data": {
      "text/plain": "True"
     },
     "execution_count": 14,
     "metadata": {},
     "output_type": "execute_result"
    }
   ],
   "source": [
    "# 使用自定义的harris函数\n",
    "dst = harris(gray)\n",
    "print(dst.shape)\n",
    "# 对R分数进行检测，相当于两次阈值检测\n",
    "img2[dst > 0.005 * dst.max()] = [0, 0, 255]\n",
    "cv2.imwrite(\"../resources/result/harris.jpg\", img2)"
   ],
   "metadata": {
    "collapsed": false,
    "pycharm": {
     "name": "#%%\n"
    }
   }
  },
  {
   "cell_type": "markdown",
   "source": [
    "设定角点数目和质量来寻找角点\n",
    "cv2.goodFeaturesToTrack()\n"
   ],
   "metadata": {
    "collapsed": false,
    "pycharm": {
     "name": "#%% md\n"
    }
   }
  },
  {
   "cell_type": "code",
   "execution_count": null,
   "outputs": [],
   "source": [
    "corners=cv2.goodFeaturesToTrack(gray,50,0.01,10)\n",
    "# 返回的结果是[[ 311., 250.]] 两层括号的数组\n",
    "corners = np.int0(corners)\n",
    "for i in corners:\n",
    "    x,y=i.ravel()\n",
    "    cv2.circle(img1,(x,y),3,255,-1)"
   ],
   "metadata": {
    "collapsed": false,
    "pycharm": {
     "name": "#%%\n",
     "is_executing": true
    }
   }
  },
  {
   "cell_type": "code",
   "execution_count": 10,
   "outputs": [],
   "source": [
    "cv2.imshow('harris', img2)\n",
    "cv2.waitKey(0)\n",
    "cv2.destroyAllWindows()"
   ],
   "metadata": {
    "collapsed": false,
    "pycharm": {
     "name": "#%%\n"
    }
   }
  }
 ],
 "metadata": {
  "kernelspec": {
   "name": "pycharm-368948a5",
   "language": "python",
   "display_name": "PyCharm (opencv)"
  },
  "language_info": {
   "codemirror_mode": {
    "name": "ipython",
    "version": 2
   },
   "file_extension": ".py",
   "mimetype": "text/x-python",
   "name": "python",
   "nbconvert_exporter": "python",
   "pygments_lexer": "ipython2",
   "version": "2.7.6"
  }
 },
 "nbformat": 4,
 "nbformat_minor": 0
}