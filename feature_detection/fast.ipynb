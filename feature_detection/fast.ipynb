{
 "cells": [
  {
   "cell_type": "code",
   "execution_count": null,
   "outputs": [],
   "source": [
    "import cv2\n",
    "import numpy as np\n",
    "import matplotlib.pyplot as plt"
   ],
   "metadata": {
    "collapsed": false,
    "pycharm": {
     "name": "#%%\n"
    }
   }
  },
  {
   "cell_type": "code",
   "execution_count": null,
   "outputs": [],
   "source": [],
   "metadata": {
    "collapsed": false,
    "pycharm": {
     "name": "#%% 波段合成\n"
    }
   }
  },
  {
   "cell_type": "code",
   "execution_count": null,
   "outputs": [],
   "source": [
    "img1=cv2.imread('../resources/DJI_0020.JPG')\n",
    "img2=cv2.imread('../resources/DJI_0040.jpg')\n",
    "print(img1.shape)\n",
    "print(img2.shape)\n",
    "gray1=cv2.cvtColor(img1,cv2.COLOR_BGR2GRAY)\n",
    "gray2=cv2.cvtColor(img2,cv2.COLOR_BGR2GRAY)\n",
    "hmerge=np.hstack((gray1,gray2))\n",
    "\n"
   ],
   "metadata": {
    "collapsed": false,
    "pycharm": {
     "name": "#%%\n"
    }
   }
  },
  {
   "cell_type": "code",
   "execution_count": null,
   "outputs": [],
   "source": [
    "# fast 检测\n",
    "fast=cv2.FastFeatureDetector_create(threshold=30,type=cv2.FAST_FEATURE_DETECTOR_TYPE_9_16)\n",
    "fast_kp1=fast.detect(gray1,None)\n",
    "fast_kp2=fast.detect(gray2,None)\n",
    "fast_img1=img1.copy()\n",
    "fast_img2=img2.copy()\n",
    "print(len(fast_kp1),len(fast_kp2))\n",
    "cv2.drawKeypoints(img1,fast_kp1,fast_img1,(255,0,0),flags=cv2.DRAW_MATCHES_FLAGS_DEFAULT)\n",
    "cv2.drawKeypoints(img2,fast_kp2,fast_img2,(0,255,0),flags=cv2.DRAW_MATCHES_FLAGS_DEFAULT)\n",
    "\n",
    "cv2.imwrite('../resources/result/DJI_0020_fast_keypoints.png',fast_img1)\n",
    "cv2.imwrite('../resources/result/DJI_0040_fast_keypoints.png',fast_img2)\n",
    "\n",
    "kp_hmerge=np.hstack((fast_img1,fast_img2))\n"
   ],
   "metadata": {
    "collapsed": false,
    "pycharm": {
     "name": "#%%\n"
    }
   }
  }
 ],
 "metadata": {
  "kernelspec": {
   "display_name": "Python 3",
   "language": "python",
   "name": "python3"
  },
  "language_info": {
   "codemirror_mode": {
    "name": "ipython",
    "version": 2
   },
   "file_extension": ".py",
   "mimetype": "text/x-python",
   "name": "python",
   "nbconvert_exporter": "python",
   "pygments_lexer": "ipython2",
   "version": "2.7.6"
  }
 },
 "nbformat": 4,
 "nbformat_minor": 0
}