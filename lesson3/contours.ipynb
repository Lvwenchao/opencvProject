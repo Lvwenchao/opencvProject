{
 "cells": [
  {
   "cell_type": "markdown",
   "metadata": {
    "collapsed": true,
    "pycharm": {
     "name": "#%% md\n"
    }
   },
   "source": [
    "### 一、图像轮廓\n",
    "#### 1.findContours()\n",
    "#### 2.drawContours()"
   ]
  },
  {
   "cell_type": "code",
   "execution_count": 5,
   "outputs": [],
   "source": [
    "import cv2\n",
    "import numpy as np\n",
    "import matplotlib.pyplot  as plt\n"
   ],
   "metadata": {
    "collapsed": false,
    "pycharm": {
     "name": "#%%\n"
    }
   }
  },
  {
   "cell_type": "markdown",
   "source": [
    "#### 查找轮廓\n",
    "\n"
   ],
   "metadata": {
    "collapsed": false,
    "pycharm": {
     "name": "#%% md\n"
    }
   }
  },
  {
   "cell_type": "code",
   "execution_count": 6,
   "outputs": [
    {
     "name": "stdout",
     "output_type": "stream",
     "text": [
      "251\n"
     ]
    }
   ],
   "source": [
    "img=cv2.imread(r'E:\\pythonProject\\opencvProject\\resources\\bandw.jpg',0)\n",
    "img_gray=cv2.cvtColor(img,cv2.COLOR_BGR2GRAY)\n",
    "ret,threld=cv2.threshold(img_gray,175,255,0)\n",
    "contours,hierarchy=cv2.findContours(threld,cv2.RETR_TREE,cv2.CHAIN_APPROX_SIMPLE)\n",
    "print(len(contours))\n",
    "\n",
    "background=np.zeros((img.shape[0],img.shape[1]),np.uint8)\n",
    "background=cv2.drawContours(background,contours,-1,(255,0,0),1)\n",
    "\n",
    "cv2.namedWindow('contours',0)\n",
    "cv2.resizeWindow('contours',500,500)\n",
    "cv2.imshow('contours',background)\n",
    "cv2.waitKey(0)\n",
    "cv2.destroyAllWindows()"
   ],
   "metadata": {
    "collapsed": false,
    "pycharm": {
     "name": "#%%\n"
    }
   }
  },
  {
   "cell_type": "markdown",
   "source": [
    "### 二、轮廓特征\n",
    "#### 1.cv2.moments()  ------ 获取矩的字典"
   ],
   "metadata": {
    "collapsed": false,
    "pycharm": {
     "name": "#%% md\n"
    }
   }
  },
  {
   "cell_type": "code",
   "execution_count": 17,
   "outputs": [
    {
     "name": "stdout",
     "output_type": "stream",
     "text": [
      "327 232\n",
      "32030667.0\n"
     ]
    }
   ],
   "source": [
    "M=cv2.moments(img[:,:,0])\n",
    "\n",
    "# 计算中心\n",
    "\n",
    "center_x=int(M['m10']/M['m00'])\n",
    "center_y=int(M['m01']/M['m00'])\n",
    "print(center_x,center_y)\n",
    "\n",
    "# 计算面积\n",
    "print(M['m00'])\n"
   ],
   "metadata": {
    "collapsed": false,
    "pycharm": {
     "name": "#%%\n"
    }
   }
  },
  {
   "cell_type": "markdown",
   "source": [
    "#### 2.cv2.arcLength() 计算轮廓周长\n"
   ],
   "metadata": {
    "collapsed": false,
    "pycharm": {
     "name": "#%% md\n"
    }
   }
  },
  {
   "cell_type": "code",
   "execution_count": null,
   "outputs": [],
   "source": [],
   "metadata": {
    "collapsed": false,
    "pycharm": {
     "name": "#%%\n"
    }
   }
  }
 ],
 "metadata": {
  "kernelspec": {
   "name": "pycharm-368948a5",
   "language": "python",
   "display_name": "PyCharm (opencv)"
  },
  "language_info": {
   "codemirror_mode": {
    "name": "ipython",
    "version": 2
   },
   "file_extension": ".py",
   "mimetype": "text/x-python",
   "name": "python",
   "nbconvert_exporter": "python",
   "pygments_lexer": "ipython2",
   "version": "2.7.6"
  }
 },
 "nbformat": 4,
 "nbformat_minor": 0
}